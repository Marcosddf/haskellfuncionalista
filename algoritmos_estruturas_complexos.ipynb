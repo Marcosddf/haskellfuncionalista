{
 "cells": [
  {
   "cell_type": "markdown",
   "metadata": {},
   "source": [
    "## Algoritmos e estruturas complexos ##\n",
    "\n",
    "Este notebook apresenta alguns algorimos conhecidos implementados em Haskell. \n",
    "\n",
    "Também apresenta estruturas recursivas (árvore binária) e definição de novo tipo de dado.\n"
   ]
  },
  {
   "cell_type": "markdown",
   "metadata": {},
   "source": [
    "Quick sort em Haskell."
   ]
  },
  {
   "cell_type": "code",
   "execution_count": 3,
   "metadata": {},
   "outputs": [
    {
     "data": {
      "text/plain": [
       "[0,1,2,4,5,8,9]"
      ]
     },
     "metadata": {},
     "output_type": "display_data"
    }
   ],
   "source": [
    "quicksort  []           =  []\n",
    "quicksort (x:xs)        =  quicksort [y | y <- xs, y<x ]\n",
    "                        ++ [x]\n",
    "                        ++ quicksort [y | y <- xs, y>=x]\n",
    "                        \n",
    "quicksort [4,8,1,5,2,0,9]                        "
   ]
  },
  {
   "cell_type": "markdown",
   "metadata": {},
   "source": [
    "Merge sort, top down em Haskell"
   ]
  },
  {
   "cell_type": "code",
   "execution_count": 31,
   "metadata": {},
   "outputs": [
    {
     "data": {
      "text/plain": [
       "[1,3,6,8,9,12,14,25]"
      ]
     },
     "metadata": {},
     "output_type": "display_data"
    }
   ],
   "source": [
    "msort :: Ord a => [a] -> [a]\n",
    "msort [] = []\n",
    "msort [a] = [a]\n",
    "msort xs = merge (msort (firstHalf xs)) (msort (secondHalf xs))\n",
    "\n",
    "firstHalf  xs = let { n = length xs } in take (div n 2) xs\n",
    "secondHalf xs = let { n = length xs } in drop (div n 2) xs\n",
    "\n",
    "msort [6,8,3,1,9,12,25,14]"
   ]
  },
  {
   "cell_type": "markdown",
   "metadata": {},
   "source": [
    "Árvore binária e algumas funções usando Haskell (inclusão, busca, altura, mínimo, percursos)"
   ]
  },
  {
   "cell_type": "code",
   "execution_count": 60,
   "metadata": {},
   "outputs": [
    {
     "data": {
      "text/plain": [
       "No 5 (No 3 (No 1 Null Null) (No 4 Null Null)) (No 7 (No 6 Null Null) (No 8 Null Null))"
      ]
     },
     "metadata": {},
     "output_type": "display_data"
    },
    {
     "data": {
      "text/plain": [
       "True"
      ]
     },
     "metadata": {},
     "output_type": "display_data"
    },
    {
     "data": {
      "text/plain": [
       "[1,3,4,5,6,7,8]"
      ]
     },
     "metadata": {},
     "output_type": "display_data"
    },
    {
     "data": {
      "text/plain": [
       "[5,3,1,4,7,6,8]"
      ]
     },
     "metadata": {},
     "output_type": "display_data"
    },
    {
     "data": {
      "text/plain": [
       "[1,4,3,6,8,7,5]"
      ]
     },
     "metadata": {},
     "output_type": "display_data"
    },
    {
     "data": {
      "text/plain": [
       "3"
      ]
     },
     "metadata": {},
     "output_type": "display_data"
    },
    {
     "data": {
      "text/plain": [
       "Just 1"
      ]
     },
     "metadata": {},
     "output_type": "display_data"
    }
   ],
   "source": [
    "data Tree a = Null | No a (Tree a) (Tree a) deriving (Show, Read, Eq)  \n",
    "\n",
    "singleton :: a -> Tree a  \n",
    "singleton x = No x Null Null\n",
    "\n",
    "insere :: (Ord a) => a -> Tree a -> Tree a  \n",
    "insere x Null = singleton x  \n",
    "insere x (No a esq dir)   \n",
    "    | x == a = No x esq dir  \n",
    "    | x < a  = No a (insere x esq) dir  \n",
    "    | x > a  = No a esq (insere x dir)  \n",
    "    \n",
    "buscaBinaria :: (Ord a) => a -> Tree a -> Bool  \n",
    "buscaBinaria x Null = False  \n",
    "buscaBinaria x (No a esq dir)  \n",
    "    | x == a = True  \n",
    "    | x < a  = buscaBinaria x esq  \n",
    "    | x > a  = buscaBinaria x dir      \n",
    "\n",
    "emOrdem :: Tree a -> [a]\n",
    "emOrdem Null = []\n",
    "emOrdem (No a esq dir) = emOrdem esq ++ [a] ++ emOrdem dir\n",
    "\n",
    "preOrdem :: Tree a -> [a]\n",
    "preOrdem Null = []\n",
    "preOrdem (No a esq dir) =  [a] ++ preOrdem esq ++ preOrdem dir\n",
    "\n",
    "posOrdem :: Tree a -> [a]\n",
    "posOrdem Null = []\n",
    "posOrdem (No a esq dir) =  posOrdem esq ++ posOrdem dir ++ [a]\n",
    "\n",
    "altura :: Tree a -> Int\n",
    "altura Null = 0\n",
    "altura (No _ esq dir) = \n",
    "  1 + max (altura esq) (altura dir)\n",
    "\n",
    "minimo :: Tree a -> Maybe a\n",
    "minimo Null = Nothing\n",
    "minimo (No a Null dir) = Just a\n",
    "minimo (No a esq dir) = minimo esq\n",
    "\n",
    "let nums = [8,6,4,1,7,3,5]  \n",
    "let arvore = foldr insere Null nums \n",
    "\n",
    "arvore\n",
    "\n",
    "buscaBinaria 8 arvore  \n",
    "\n",
    "emOrdem arvore\n",
    "preOrdem arvore\n",
    "posOrdem arvore\n",
    "\n",
    "altura arvore\n",
    " \n",
    "minimo arvore"
   ]
  },
  {
   "cell_type": "markdown",
   "metadata": {},
   "source": [
    "Tipo de dado Pessoa em Haskell. Aluno é uma função construtura que retorna 2 Strings.\n",
    "\n",
    "A função __nome__ recebe um aluno e retorna apenas o nome."
   ]
  },
  {
   "cell_type": "code",
   "execution_count": 24,
   "metadata": {},
   "outputs": [
    {
     "data": {
      "text/plain": [
       "\"Julio\""
      ]
     },
     "metadata": {},
     "output_type": "display_data"
    }
   ],
   "source": [
    "data Pessoa = Aluno String String\n",
    "\n",
    "nome (Aluno n _)  = n\n",
    "\n",
    "nome (Aluno \"Julio\" \"Rua XV\")"
   ]
  }
 ],
 "metadata": {
  "hide_input": false,
  "kernelspec": {
   "display_name": "Haskell",
   "language": "haskell",
   "name": "haskell"
  },
  "language_info": {
   "codemirror_mode": "ihaskell",
   "file_extension": ".hs",
   "name": "haskell",
   "pygments_lexer": "Haskell",
   "version": "8.6.5"
  },
  "latex_envs": {
   "bibliofile": "biblio.bib",
   "cite_by": "apalike",
   "current_citInitial": 1,
   "eqLabelWithNumbers": true,
   "eqNumInitial": 0
  },
  "nav_menu": {},
  "toc": {
   "navigate_menu": true,
   "number_sections": true,
   "sideBar": true,
   "threshold": 6,
   "toc_cell": false,
   "toc_section_display": "block",
   "toc_window_display": false
  }
 },
 "nbformat": 4,
 "nbformat_minor": 1
}
