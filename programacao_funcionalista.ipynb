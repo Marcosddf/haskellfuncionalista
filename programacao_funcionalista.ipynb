{
 "cells": [
  {
   "cell_type": "markdown",
   "metadata": {},
   "source": [
    "## Programação funcionalista em Haskell ##\n",
    "\n",
    "Este notebook apresenta construções básicas de programação funcionalista usando a linguagem Haskell.\n",
    "\n",
    "Uma descrição mais detalhada da linguagem pode ser encontrada no site http://www.haskell.org.\n",
    "\n",
    "Os exemplos utilizados neste notebook são frequentemente encontrados na literatura existente. Exemplos de bibliografia:\n",
    "\n",
    "- Wiki da linguagem. https://wiki.haskell.org/, https://wiki.haskell.org/A_brief_introduction_to_Haskell\n",
    "- A Gentle Introduction to Haskell - Version 98 (June 2000) https://www.haskell.org/tutorial/\n",
    "- A general introduction to Functional Programming using Haskell. Matteo Rossi. Dipartimento di Elettronica e Informazione. Politecnico di Milano. https://cazzola.di.unimi.it/ps/haskell-p1.pdf\n",
    "- Bird. Introduction to Functional Programming using Haskell. Prentice Hall, New York, 1998.\n",
    "- A.Davie. Introduction to Functional Programming System Using Haskell. Cambridge University Press, 1992.\n",
    "- P. Hudak. Conception, evolution, and application of functional programming languages. ACM Computing Surveys, 21(3):359--411, 1989.\n",
    "\n"
   ]
  },
  {
   "cell_type": "markdown",
   "metadata": {},
   "source": [
    "**Programação funcionalista** \n",
    "\n",
    "- funções como entidades de primeira ordem\n",
    "  - mapeamento de valores de entrada em valores de saída\n",
    "- baseada em expressões \n",
    "  - expressões são avaliadas (há sempre um valor de retorno)\n",
    "- transparência referencial\n",
    "  - não há estado compartilhado e sem efeito de borda\n",
    "  \n",
    "**Linguagens**: Haskell, ML, CaML, Erlang. Muitas linguagens são híbridas, adotando construções funcionais: Scala, Java, Ruby, Python, etc.\n",
    "\n",
    "**Funções**\n",
    "- definição\n",
    "- aplicação/uso\n",
    "- avaliação\n"
   ]
  },
  {
   "cell_type": "markdown",
   "metadata": {},
   "source": [
    "O código abaixo contém avaliações de expressões simples e com tipos de dados diferentes: soma de inteiros e concatenação de caracteres."
   ]
  },
  {
   "cell_type": "code",
   "execution_count": 1,
   "metadata": {},
   "outputs": [
    {
     "data": {
      "text/plain": [
       "14"
      ]
     },
     "metadata": {},
     "output_type": "display_data"
    },
    {
     "data": {
      "text/plain": [
       "\"Ola Mundo!\""
      ]
     },
     "metadata": {},
     "output_type": "display_data"
    }
   ],
   "source": [
    "4 + 5 * 2\n",
    "\"Ola \" ++ \"Mundo!\""
   ]
  },
  {
   "cell_type": "markdown",
   "metadata": {},
   "source": [
    "Expressões podem ser escritas em mais de uma linha."
   ]
  },
  {
   "cell_type": "code",
   "execution_count": 2,
   "metadata": {},
   "outputs": [
    {
     "data": {
      "text/plain": [
       "\"Ola, Mundo!\""
      ]
     },
     "metadata": {},
     "output_type": "display_data"
    }
   ],
   "source": [
    "concat [\n",
    "  \"Ola\",\n",
    "  \", \",\n",
    "  \"Mundo!\"\n",
    "  ] :: String"
   ]
  },
  {
   "cell_type": "markdown",
   "metadata": {},
   "source": [
    "Um programa Haskell é composta por um conjunto de **expressões**, que serão avaliadas. Todas as expressões tem um valor específico. \n",
    "\n",
    "Não existem comandos explícitos chamados sequencialmente, como em linguagens procedurais.\n",
    "\n",
    "Todas as expressões possuem um tipo. Alguns tipos nativamente suportados pela linguagem são:\n",
    "- Bool\n",
    "- Char\n",
    "- String\n",
    "- Int\n",
    "- Integer\n",
    "- Float\n",
    "- Double\n",
    "\n",
    "Uma expressão tem um valor, que **possui** um tipo. Abaixo algumas expressões com valores e sua definição de tipo. A definição do tipo é feita pelos caracteres **::**."
   ]
  },
  {
   "cell_type": "code",
   "execution_count": 3,
   "metadata": {},
   "outputs": [
    {
     "data": {
      "text/plain": [
       "5"
      ]
     },
     "metadata": {},
     "output_type": "display_data"
    },
    {
     "data": {
      "text/plain": [
       "'a'"
      ]
     },
     "metadata": {},
     "output_type": "display_data"
    },
    {
     "data": {
      "text/plain": [
       "[1,2,3]"
      ]
     },
     "metadata": {},
     "output_type": "display_data"
    },
    {
     "data": {
      "text/plain": [
       "('b',4)"
      ]
     },
     "metadata": {},
     "output_type": "display_data"
    },
    {
     "data": {
      "text/plain": [
       "(False,True)"
      ]
     },
     "metadata": {},
     "output_type": "display_data"
    },
    {
     "data": {
      "text/plain": [
       "(True,'a',True)"
      ]
     },
     "metadata": {},
     "output_type": "display_data"
    },
    {
     "data": {
      "text/plain": [
       "(\"Sim\",True,'a')"
      ]
     },
     "metadata": {},
     "output_type": "display_data"
    }
   ],
   "source": [
    "5  :: Integer\n",
    "'a' :: Char\n",
    "[1,2,3] :: [Integer]\n",
    "('b',4) :: (Char,Integer)\n",
    "(False, True) :: (Bool, Bool)\n",
    "(True, 'a', True) :: (Bool, Char, Bool)\n",
    "(\"Sim\", True, 'a') :: (String, Bool, Char)"
   ]
  },
  {
   "cell_type": "markdown",
   "metadata": {},
   "source": [
    "Novos tipos podem ser definidos com a palavra chave **Data**. Abaixo a definição de uma enumeração. Tipos mais complexos podem ser definidos."
   ]
  },
  {
   "cell_type": "code",
   "execution_count": 4,
   "metadata": {},
   "outputs": [],
   "source": [
    "data Color = Red | Green | Blue | Indigo | Violet | Yellow"
   ]
  },
  {
   "cell_type": "markdown",
   "metadata": {},
   "source": [
    "**Funções** são as expressões principais definidas em Haskell.\n",
    "\n",
    "O exemplo abaixo é a declaração da função quadrado. Na primeira linha está definido o **nome**, tipo do **parâmetro** e tipo de **retorno** da função.\n",
    "\n",
    "Na segunda linha está a **definição** da função (implementação), e nas linhas seguintas diferentes **aplicações** (chamadas) das funções definidas. No momento da aplicação, será feita a substituição dos parâmetros pelos valores aplicados."
   ]
  },
  {
   "cell_type": "code",
   "execution_count": 5,
   "metadata": {},
   "outputs": [
    {
     "data": {
      "text/plain": [
       "4"
      ]
     },
     "metadata": {},
     "output_type": "display_data"
    },
    {
     "data": {
      "text/plain": [
       "16"
      ]
     },
     "metadata": {},
     "output_type": "display_data"
    },
    {
     "data": {
      "text/plain": [
       "16"
      ]
     },
     "metadata": {},
     "output_type": "display_data"
    }
   ],
   "source": [
    "quadrado :: Int->Int\n",
    "quadrado x = x * x\n",
    "\n",
    "quadrado 2\n",
    "quadrado (quadrado 2)\n",
    "quadrado (2 * 2)"
   ]
  },
  {
   "cell_type": "markdown",
   "metadata": {},
   "source": [
    "A mesma função pode ser definida sem a expressão de tipo. O interpretador Haskell fará uma inferência de tipos estática."
   ]
  },
  {
   "cell_type": "code",
   "execution_count": 6,
   "metadata": {},
   "outputs": [
    {
     "data": {
      "text/plain": [
       "4"
      ]
     },
     "metadata": {},
     "output_type": "display_data"
    },
    {
     "data": {
      "text/plain": [
       "16"
      ]
     },
     "metadata": {},
     "output_type": "display_data"
    },
    {
     "data": {
      "text/plain": [
       "16"
      ]
     },
     "metadata": {},
     "output_type": "display_data"
    }
   ],
   "source": [
    "quadrado x = x * x\n",
    "\n",
    "quadrado 2\n",
    "quadrado (quadrado 2)\n",
    "quadrado (2 * 2)"
   ]
  },
  {
   "cell_type": "markdown",
   "metadata": {},
   "source": [
    "Outro exemplo de definição e aplicação de função"
   ]
  },
  {
   "cell_type": "code",
   "execution_count": 8,
   "metadata": {},
   "outputs": [
    {
     "data": {
      "text/plain": [
       "5"
      ]
     },
     "metadata": {},
     "output_type": "display_data"
    }
   ],
   "source": [
    "inc :: Integer -> Integer \n",
    "inc n = n+1\n",
    "\n",
    "inc 4"
   ]
  },
  {
   "cell_type": "markdown",
   "metadata": {},
   "source": [
    "A função `maiorIdade` abaixo tem um parâmetro Inteiro e o tipo de retorno é um Booleano. A definição contém uma expressão condicional `if` `then` `else`. O `else` é obrigatório, pois toda expressão em Haskell deve retornar um valor.\n",
    "\n",
    "Note que a mesma definição pode ser simplificada em `maiorIdade2`. O interpretador sugeriu que a expressão é redundante e pode ser simplificada."
   ]
  },
  {
   "cell_type": "code",
   "execution_count": 9,
   "metadata": {},
   "outputs": [
    {
     "data": {
      "text/html": [
       "<style>/* Styles used for the Hoogle display in the pager */\n",
       ".hoogle-doc {\n",
       "display: block;\n",
       "padding-bottom: 1.3em;\n",
       "padding-left: 0.4em;\n",
       "}\n",
       ".hoogle-code {\n",
       "display: block;\n",
       "font-family: monospace;\n",
       "white-space: pre;\n",
       "}\n",
       ".hoogle-text {\n",
       "display: block;\n",
       "}\n",
       ".hoogle-name {\n",
       "color: green;\n",
       "font-weight: bold;\n",
       "}\n",
       ".hoogle-head {\n",
       "font-weight: bold;\n",
       "}\n",
       ".hoogle-sub {\n",
       "display: block;\n",
       "margin-left: 0.4em;\n",
       "}\n",
       ".hoogle-package {\n",
       "font-weight: bold;\n",
       "font-style: italic;\n",
       "}\n",
       ".hoogle-module {\n",
       "font-weight: bold;\n",
       "}\n",
       ".hoogle-class {\n",
       "font-weight: bold;\n",
       "}\n",
       ".get-type {\n",
       "color: green;\n",
       "font-weight: bold;\n",
       "font-family: monospace;\n",
       "display: block;\n",
       "white-space: pre-wrap;\n",
       "}\n",
       ".show-type {\n",
       "color: green;\n",
       "font-weight: bold;\n",
       "font-family: monospace;\n",
       "margin-left: 1em;\n",
       "}\n",
       ".mono {\n",
       "font-family: monospace;\n",
       "display: block;\n",
       "}\n",
       ".err-msg {\n",
       "color: red;\n",
       "font-style: italic;\n",
       "font-family: monospace;\n",
       "white-space: pre;\n",
       "display: block;\n",
       "}\n",
       "#unshowable {\n",
       "color: red;\n",
       "font-weight: bold;\n",
       "}\n",
       ".err-msg.in.collapse {\n",
       "padding-top: 0.7em;\n",
       "}\n",
       ".highlight-code {\n",
       "white-space: pre;\n",
       "font-family: monospace;\n",
       "}\n",
       ".suggestion-warning { \n",
       "font-weight: bold;\n",
       "color: rgb(200, 130, 0);\n",
       "}\n",
       ".suggestion-error { \n",
       "font-weight: bold;\n",
       "color: red;\n",
       "}\n",
       ".suggestion-name {\n",
       "font-weight: bold;\n",
       "}\n",
       "</style><div class=\"suggestion-name\" style=\"clear:both;\">Redundant if</div><div class=\"suggestion-row\" style=\"float: left;\"><div class=\"suggestion-warning\">Found:</div><div class=\"highlight-code\" id=\"haskell\">if n >= 18 then True else False</div></div><div class=\"suggestion-row\" style=\"float: left;\"><div class=\"suggestion-warning\">Why Not:</div><div class=\"highlight-code\" id=\"haskell\">n >= 18</div></div>"
      ],
      "text/plain": [
       "Line 2: Redundant if\n",
       "Found:\n",
       "if n >= 18 then True else False\n",
       "Why not:\n",
       "n >= 18"
      ]
     },
     "metadata": {},
     "output_type": "display_data"
    },
    {
     "data": {
      "text/plain": [
       "True"
      ]
     },
     "metadata": {},
     "output_type": "display_data"
    },
    {
     "data": {
      "text/plain": [
       "True"
      ]
     },
     "metadata": {},
     "output_type": "display_data"
    }
   ],
   "source": [
    "maiorIdade :: Int -> Bool\n",
    "maiorIdade n = if n >= 18 then True else False\n",
    "maiorIdade2 n = n >= 18\n",
    "\n",
    "maiorIdade 20\n",
    "maiorIdade2 20"
   ]
  },
  {
   "cell_type": "markdown",
   "metadata": {},
   "source": [
    "As funções podem ser chamadas recursivamente. A função abaixo recebe um número inteiro como parâmetro e adiciona o resultado com todos os antecessores até 0."
   ]
  },
  {
   "cell_type": "code",
   "execution_count": 11,
   "metadata": {},
   "outputs": [
    {
     "data": {
      "text/plain": [
       "10"
      ]
     },
     "metadata": {},
     "output_type": "display_data"
    },
    {
     "data": {
      "text/plain": [
       "15"
      ]
     },
     "metadata": {},
     "output_type": "display_data"
    }
   ],
   "source": [
    "somaAte :: Int -> Int\n",
    "somaAte n = \n",
    "   if n == 0 then \n",
    "     0 \n",
    "   else \n",
    "     n + somaAte (n-1)\n",
    "  \n",
    "somaAte 4\n",
    "somaAte 5"
   ]
  },
  {
   "cell_type": "code",
   "execution_count": 14,
   "metadata": {},
   "outputs": [
    {
     "data": {
      "text/plain": [
       "6"
      ]
     },
     "metadata": {},
     "output_type": "display_data"
    },
    {
     "data": {
      "text/plain": [
       "10"
      ]
     },
     "metadata": {},
     "output_type": "display_data"
    }
   ],
   "source": [
    "dobro x = x * 2\n",
    "\n",
    "soma :: (Int, Int) -> Int\n",
    "soma (x, y) = x + y\n",
    "\n",
    "soma (2, 4)\n",
    "-- prioridade\n",
    "soma (dobro 2, 4 + 2)"
   ]
  },
  {
   "cell_type": "markdown",
   "metadata": {},
   "source": [
    "A função abaixo soma os parâmetros x e y. Entretanto, está não é uma função com 2 parâmetros. \n",
    "\n",
    "Esta é uma função que recebe um Int como parâmetro, e retorna uma função anônima que, dado outro Int, retorna um Int. Esta é a técnica de **currying**. Em Haskell, todas as funções recebem apenas 1 parâmetro.\n"
   ]
  },
  {
   "cell_type": "code",
   "execution_count": 15,
   "metadata": {},
   "outputs": [
    {
     "data": {
      "text/plain": [
       "6"
      ]
     },
     "metadata": {},
     "output_type": "display_data"
    }
   ],
   "source": [
    "soma :: Int -> Int -> Int\n",
    "soma x y = x + y\n",
    "\n",
    "soma 2 4"
   ]
  },
  {
   "cell_type": "markdown",
   "metadata": {},
   "source": [
    "A mesma função acima pode ser definida com a assinatura da segunda função entre parênteses "
   ]
  },
  {
   "cell_type": "code",
   "execution_count": 16,
   "metadata": {},
   "outputs": [
    {
     "data": {
      "text/plain": [
       "6"
      ]
     },
     "metadata": {},
     "output_type": "display_data"
    },
    {
     "data": {
      "text/plain": [
       "10"
      ]
     },
     "metadata": {},
     "output_type": "display_data"
    }
   ],
   "source": [
    "soma :: Int -> (Int->Int)\n",
    "soma x y = x + y\n",
    "\n",
    "soma 2 4\n",
    "soma (dobro 2) 4 + 2"
   ]
  },
  {
   "cell_type": "markdown",
   "metadata": {},
   "source": [
    "A função abaixo **não é** uma função com 2 parâmetros, mas é uma função com 1 parâmetro do tipo **Tupla**.\n",
    "\n",
    "Uma tupla é um conjunto de valores com tamanho fixo, com os valores escritos entre parênteses.\n",
    "\n",
    "A chamada da função é feita passando uma tupla (2,4) como parâmetro. A chamada logo abaixo não é suportada."
   ]
  },
  {
   "cell_type": "code",
   "execution_count": 20,
   "metadata": {},
   "outputs": [
    {
     "data": {
      "text/plain": [
       "6"
      ]
     },
     "metadata": {},
     "output_type": "display_data"
    },
    {
     "ename": "",
     "evalue": "",
     "output_type": "error",
     "traceback": [
      "<interactive>:1:1: error:\n    • Couldn't match expected type ‘t0 -> t’ with actual type ‘Int’\n    • The function ‘soma’ is applied to two arguments,\n      but its type ‘(Int, Int) -> Int’ has only one\n      In the expression: soma 2 4\n      In an equation for ‘it’: it = soma 2 4\n    • Relevant bindings include it :: t (bound at <interactive>:1:1)"
     ]
    }
   ],
   "source": [
    "soma :: (Int,Int) -> Int\n",
    "soma (x, y) = x + y\n",
    "\n",
    "soma (2, 4)\n",
    "soma 2 4"
   ]
  },
  {
   "cell_type": "markdown",
   "metadata": {},
   "source": [
    "A função abaixo calcula o fatorial de um número. \n",
    "\n",
    "Esta implementação tem uma expressão condicional e uma chamada recursiva."
   ]
  },
  {
   "cell_type": "code",
   "execution_count": 21,
   "metadata": {},
   "outputs": [
    {
     "data": {
      "text/plain": [
       "120"
      ]
     },
     "metadata": {},
     "output_type": "display_data"
    }
   ],
   "source": [
    "fatorial :: Int->Int\n",
    "fatorial n =\n",
    "   if n == 0 then 1\n",
    "   else\n",
    "     n * fatorial (n-1)\n",
    "     \n",
    "fatorial 5"
   ]
  },
  {
   "cell_type": "markdown",
   "metadata": {},
   "source": [
    "A função fatorial abaixo está definida usando casamento de padrões (__pattern matching__). Cada padrão é especificado em uma definição separada da função. Neste caso, há o padrão **0**, e todos os demais números (**n**). Não há tratamento para números negativos."
   ]
  },
  {
   "cell_type": "code",
   "execution_count": 22,
   "metadata": {},
   "outputs": [
    {
     "data": {
      "text/plain": [
       "24"
      ]
     },
     "metadata": {},
     "output_type": "display_data"
    }
   ],
   "source": [
    "fatorial :: Int->Int\n",
    "fatorial 0 = 1\n",
    "fatorial n = n * fatorial (n - 1)\n",
    "\n",
    "fatorial 4"
   ]
  },
  {
   "cell_type": "markdown",
   "metadata": {},
   "source": [
    "Outra implementação usando casamento de padrão mais complexo. O início do padrão é definido pelo pipe (|), a condição que o padrão deve respeitar (chamada de guarda) é definida em seguida. Por último, há a implementação da função para cada padrão. O casamento do padrão é executado na ordem da implementação."
   ]
  },
  {
   "cell_type": "code",
   "execution_count": 23,
   "metadata": {},
   "outputs": [
    {
     "data": {
      "text/plain": [
       "24"
      ]
     },
     "metadata": {},
     "output_type": "display_data"
    },
    {
     "ename": "",
     "evalue": "",
     "output_type": "error",
     "traceback": [
      "Número negativo passado para o fatorial\nCallStack (from HasCallStack):\n  error, called at <interactive>:4:16 in interactive:Ghci1002"
     ]
    }
   ],
   "source": [
    "fatorial n  \n",
    "    | n == 0 = 1\n",
    "    | n > 0  = n * fatorial (n - 1)\n",
    "    | n < 0  = error \"Número negativo passado para o fatorial\"\n",
    "    \n",
    "fatorial 4\n",
    "fatorial (-2)"
   ]
  },
  {
   "cell_type": "markdown",
   "metadata": {},
   "source": [
    "Outro exemplo de casamento de padrões, com a função retornando uma string."
   ]
  },
  {
   "cell_type": "code",
   "execution_count": 24,
   "metadata": {},
   "outputs": [
    {
     "data": {
      "text/plain": [
       "\"Positivo\""
      ]
     },
     "metadata": {},
     "output_type": "display_data"
    },
    {
     "data": {
      "text/plain": [
       "\"Negativo\""
      ]
     },
     "metadata": {},
     "output_type": "display_data"
    },
    {
     "data": {
      "text/plain": [
       "\"Zero\""
      ]
     },
     "metadata": {},
     "output_type": "display_data"
    }
   ],
   "source": [
    "sinal x\n",
    "        |  x > 0  = \"Positivo\"\n",
    "        |  x == 0 = \"Zero\"\n",
    "        |  x < 0  = \"Negativo\"\n",
    "       \n",
    "sinal 12\n",
    "sinal (-1)\n",
    "sinal 0"
   ]
  },
  {
   "cell_type": "markdown",
   "metadata": {},
   "source": [
    "As expressões de pattern matching com **case** permitem o casamento de padrões de valores ou tipos de dados, dentro da implementação da função (lado direito da igualdade), não na sua definição (lado esquerdo), como nos exemplos anteriores."
   ]
  },
  {
   "cell_type": "code",
   "execution_count": 25,
   "metadata": {},
   "outputs": [
    {
     "data": {
      "text/plain": [
       "\"Verde\""
      ]
     },
     "metadata": {},
     "output_type": "display_data"
    },
    {
     "data": {
      "text/plain": [
       "\"Vermelho\""
      ]
     },
     "metadata": {},
     "output_type": "display_data"
    }
   ],
   "source": [
    "corPt x = \n",
    "     case x of\n",
    "         Green  -> \"Verde\"\n",
    "         Yellow -> \"Amarelo\"\n",
    "         Red    -> \"Vermelho\"\n",
    "       \n",
    "corPt Green\n",
    "corPt Red"
   ]
  },
  {
   "cell_type": "markdown",
   "metadata": {},
   "source": [
    "A função maior possui a expressão **otherwise**, quando nenhum dos padrões anteriores é encontrado."
   ]
  },
  {
   "cell_type": "code",
   "execution_count": 27,
   "metadata": {},
   "outputs": [
    {
     "data": {
      "text/plain": [
       "6"
      ]
     },
     "metadata": {},
     "output_type": "display_data"
    },
    {
     "data": {
      "text/plain": [
       "9"
      ]
     },
     "metadata": {},
     "output_type": "display_data"
    }
   ],
   "source": [
    "maior x y \n",
    "  | x > y = x\n",
    "  | otherwise = y\n",
    "  \n",
    "maior 3 6\n",
    "maior 9 8"
   ]
  },
  {
   "cell_type": "code",
   "execution_count": null,
   "metadata": {},
   "outputs": [],
   "source": []
  }
 ],
 "metadata": {
  "hide_input": false,
  "kernelspec": {
   "display_name": "Haskell",
   "language": "haskell",
   "name": "haskell"
  },
  "language_info": {
   "codemirror_mode": "ihaskell",
   "file_extension": ".hs",
   "mimetype": "text/x-haskell",
   "name": "haskell",
   "pygments_lexer": "Haskell",
   "version": "8.10.4"
  },
  "latex_envs": {
   "bibliofile": "biblio.bib",
   "cite_by": "apalike",
   "current_citInitial": 1,
   "eqLabelWithNumbers": true,
   "eqNumInitial": 0
  },
  "nav_menu": {},
  "toc": {
   "navigate_menu": true,
   "number_sections": true,
   "sideBar": true,
   "threshold": 6,
   "toc_cell": false,
   "toc_section_display": "block",
   "toc_window_display": false
  }
 },
 "nbformat": 4,
 "nbformat_minor": 1
}
